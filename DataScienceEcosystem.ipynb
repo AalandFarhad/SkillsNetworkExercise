{
 "cells": [
  {
   "cell_type": "markdown",
   "id": "730fa39b-6e75-4690-af9b-d14e16e081a4",
   "metadata": {
    "tags": []
   },
   "source": [
    "# Data Science Tools and Ecosystem"
   ]
  },
  {
   "cell_type": "markdown",
   "id": "4f6860a0-ab94-44b8-8e63-d7fbe860c199",
   "metadata": {},
   "source": [
    "In this notebook, Data Science Tools and Ecosystem are summarized."
   ]
  },
  {
   "cell_type": "markdown",
   "id": "a079ad61-bb23-4801-94d5-4dd8deebab65",
   "metadata": {},
   "source": [
    "### Commonly Used Languages for Data Science:\n",
    "\n",
    "1. Python\n",
    "2. R\n",
    "3. SQL\n"
   ]
  },
  {
   "cell_type": "markdown",
   "id": "0652fe1c-5ee8-46bf-8cfe-619ba61e9cd1",
   "metadata": {},
   "source": [
    "### Commonly Used Libraries in Data Science:\n",
    "\n",
    "1. Pandas\n",
    "2. NumPy\n",
    "3. Matplotlib\n"
   ]
  },
  {
   "cell_type": "markdown",
   "id": "0cefd8c8-fdfd-4c3b-94b6-1b0cf44b646f",
   "metadata": {},
   "source": [
    "| Data Science Tools       |\n",
    "|--------------------------|\n",
    "| Jupyter Notebook         |\n",
    "| RStudio                  |\n",
    "| VS Code with Python      |\n"
   ]
  },
  {
   "cell_type": "markdown",
   "id": "9baaae9f-e0e9-49a0-b95f-aa0ea6f27154",
   "metadata": {},
   "source": [
    "### Examples of Evaluating Arithmetic Expressions in Python\n",
    "\n",
    "Below are a few examples of evaluating arithmetic expressions using Python:\n"
   ]
  },
  {
   "cell_type": "code",
   "execution_count": 3,
   "id": "68923953-7fef-4fc3-85fc-c28aae428011",
   "metadata": {
    "tags": []
   },
   "outputs": [],
   "source": [
    "# This is a simple arithmetic expression to multiply then add integers\n"
   ]
  },
  {
   "cell_type": "code",
   "execution_count": 4,
   "id": "ec8de524-fbc5-41ca-8601-b6a9f227592c",
   "metadata": {
    "tags": []
   },
   "outputs": [],
   "source": [
    "result = (3 * 4) + 5\n"
   ]
  },
  {
   "cell_type": "code",
   "execution_count": 5,
   "id": "ebb3ad90-a5e6-45cf-bbaa-cb1c1aba49c2",
   "metadata": {
    "tags": []
   },
   "outputs": [
    {
     "name": "stdout",
     "output_type": "stream",
     "text": [
      "17\n"
     ]
    }
   ],
   "source": [
    "print(result)\n"
   ]
  },
  {
   "cell_type": "code",
   "execution_count": 6,
   "id": "7e4a7ac2-c9c7-4a1c-b9ae-34e2dab07ef1",
   "metadata": {
    "tags": []
   },
   "outputs": [],
   "source": [
    "# This will convert 200 minutes to hours by dividing by 60\n"
   ]
  },
  {
   "cell_type": "code",
   "execution_count": 7,
   "id": "e956ace8-0720-480d-a462-52bffec235c9",
   "metadata": {
    "tags": []
   },
   "outputs": [],
   "source": [
    "minutes = 200\n",
    "hours = minutes / 60\n"
   ]
  },
  {
   "cell_type": "code",
   "execution_count": 8,
   "id": "d1244441-b689-4b83-9cc2-234b811edf7f",
   "metadata": {
    "tags": []
   },
   "outputs": [
    {
     "name": "stdout",
     "output_type": "stream",
     "text": [
      "3.3333333333333335\n"
     ]
    }
   ],
   "source": [
    "print(hours)\n"
   ]
  },
  {
   "cell_type": "markdown",
   "id": "f3c4dd80-dfc9-4016-806b-25997a67518f",
   "metadata": {},
   "source": [
    "**Objectives:**\n",
    "\n",
    "- List popular languages for Data Science.\n",
    "- Introduce commonly used libraries in Data Science.\n",
    "- Demonstrate evaluating arithmetic expressions in Python.\n",
    "- Convert units (minutes to hours) using Python.\n"
   ]
  },
  {
   "cell_type": "markdown",
   "id": "66c2fd0b-e607-42c3-95fe-c311bec58f8a",
   "metadata": {},
   "source": [
    "## Author\n",
    "\n",
    "Aland Farhad\n"
   ]
  },
  {
   "cell_type": "code",
   "execution_count": null,
   "id": "dc0d6a53-3ef7-4485-8d2e-c4cf528b625b",
   "metadata": {},
   "outputs": [],
   "source": []
  }
 ],
 "metadata": {
  "kernelspec": {
   "display_name": "Python 3 (ipykernel)",
   "language": "python",
   "name": "python3"
  },
  "language_info": {
   "codemirror_mode": {
    "name": "ipython",
    "version": 3
   },
   "file_extension": ".py",
   "mimetype": "text/x-python",
   "name": "python",
   "nbconvert_exporter": "python",
   "pygments_lexer": "ipython3",
   "version": "3.11.5"
  }
 },
 "nbformat": 4,
 "nbformat_minor": 5
}
